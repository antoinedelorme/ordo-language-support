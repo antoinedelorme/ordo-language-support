{
 "cells": [
  {
   "cell_type": "code",
   "execution_count": 11,
   "metadata": {},
   "outputs": [
    {
     "name": "stdout",
     "output_type": "stream",
     "text": [
      "{'main': 'pipelineLibrary.compute(rebalancingDate)', 'rebalancingDate': 'getCurrentDate()', 'data_loader': '\"PRIMITIVE\"', 'compute_engine': '\"PRIMITIVE\"', 'orchestrator': '\"PRIMITIVE\"', 'getParams': '\"PRIMITIVE\"', 'pipelineLibrary': {'rebalancing': {'rebalancingDate': 'getParams()', 'universe': \"data_loader.getUniverseFromTickers(['AAPL', 'GOOGLE'])\", 'enrichedUniverse': \"data_loader.getData(universe, ['Price'], rebalancingDate.offset('-3M'))\", 'targetAllocation': 'compute_engine.getEqualWeightAllocation(universe, rebalancingDate)'}, 'backtest': {'rebalancingDate': 'getParams()', 'observationDates': \"orchestrator.getSchedule('2020-01-01', rebalancingDate, 'monthly')\", 'rebalancingResults': 'observationDates.map(rebalancing)'}, 'compute': {'rebalancingDate': 'getParams()', 'backtestResults': 'backtestResults(rebalancingDate)', 'performanceMetrics': 'compute_engine.calculatePerformance(backtestResults)', 'report': 'orchestrator.finalizeReport(performanceMetrics)'}}}\n"
     ]
    }
   ],
   "source": [
    "\n",
    "from ordo_primitives import *\n",
    "\n",
    "# Assuming PRIMITIVE is a placeholder variable\n",
    "#PRIMITIVE = 'PRIMITIVE'\n",
    "\n",
    "# Use Stringify to process the JSON data\n",
    "\n",
    "\n",
    "json_data_useful = {\n",
    "    'main': pipelineLibrary.compute(rebalancingDate),\n",
    "    'rebalancingDate': getCurrentDate(),\n",
    "    'data_loader': PRIMITIVE,\n",
    "    'compute_engine': PRIMITIVE,\n",
    "    'orchestrator': PRIMITIVE,\n",
    "    'getParams': PRIMITIVE,\n",
    "    'pipelineLibrary': {\n",
    "        'rebalancing': {\n",
    "            'rebalancingDate': getParams(),\n",
    "            'universe': data_loader.getUniverseFromTickers([\"AAPL\", \"GOOGLE\"]),\n",
    "            'enrichedUniverse': data_loader.getData(universe, [\"Price\"], rebalancingDate.offset(\"-3M\")),\n",
    "            'targetAllocation': compute_engine.getEqualWeightAllocation(universe, rebalancingDate),\n",
    "        },\n",
    "        'backtest': {\n",
    "            'rebalancingDate': getParams(),\n",
    "            'observationDates': orchestrator.getSchedule(\"2020-01-01\", rebalancingDate, \"monthly\"),\n",
    "            'rebalancingResults': observationDates.map(rebalancing)\n",
    "        },\n",
    "        'compute': {\n",
    "            'rebalancingDate': getParams(),\n",
    "            'backtestResults': backtestResults(rebalancingDate),\n",
    "            'performanceMetrics': compute_engine.calculatePerformance(backtestResults),\n",
    "            'report': orchestrator.finalizeReport(performanceMetrics),\n",
    "        }\n",
    "    }\n",
    "}\n",
    "\n",
    "json_data = Stringify('json_data_useful')\n",
    "print(json_data)\n"
   ]
  },
  {
   "cell_type": "code",
   "execution_count": null,
   "metadata": {},
   "outputs": [
    {
     "name": "stdout",
     "output_type": "stream",
     "text": [
      "Main Entry Point: Task(name='main', type='single', formula='pipelineLibrary.compute(rebalancingDate)', parents=[], siblings=['rebalancingDate', 'data_loader', 'compute_engine', 'orchestrator', 'getParams', 'pipelineLibrary'], children=[], dependencies=['rebalancingDate'], object_dependencies=['pipelineLibrary'])\n",
      "Full Task Graph:\n",
      "Task(name='main', type='single', formula='pipelineLibrary.compute(rebalancingDate)', parents=[], siblings=['rebalancingDate', 'data_loader', 'compute_engine', 'orchestrator', 'getParams', 'pipelineLibrary'], children=[], dependencies=['rebalancingDate'], object_dependencies=['pipelineLibrary'])\n",
      "Task(name='rebalancingDate', type='single', formula='getCurrentDate()', parents=[], siblings=['main', 'data_loader', 'compute_engine', 'orchestrator', 'getParams', 'pipelineLibrary'], children=[], dependencies=[], object_dependencies=[])\n",
      "Task(name='data_loader', type='single', formula='\"PRIMITIVE\"', parents=[], siblings=['main', 'rebalancingDate', 'compute_engine', 'orchestrator', 'getParams', 'pipelineLibrary'], children=[], dependencies=[], object_dependencies=[])\n",
      "Task(name='compute_engine', type='single', formula='\"PRIMITIVE\"', parents=[], siblings=['main', 'rebalancingDate', 'data_loader', 'orchestrator', 'getParams', 'pipelineLibrary'], children=[], dependencies=[], object_dependencies=[])\n",
      "Task(name='orchestrator', type='single', formula='\"PRIMITIVE\"', parents=[], siblings=['main', 'rebalancingDate', 'data_loader', 'compute_engine', 'getParams', 'pipelineLibrary'], children=[], dependencies=[], object_dependencies=[])\n",
      "Task(name='getParams', type='single', formula='\"PRIMITIVE\"', parents=[], siblings=['main', 'rebalancingDate', 'data_loader', 'compute_engine', 'orchestrator', 'pipelineLibrary'], children=[], dependencies=[], object_dependencies=[])\n",
      "Task(name='pipelineLibrary', type='multitask', formula='None', parents=[], siblings=['main', 'rebalancingDate', 'data_loader', 'compute_engine', 'orchestrator', 'getParams'], children=['pipelineLibrary.rebalancing', 'pipelineLibrary.backtest', 'pipelineLibrary.compute'], dependencies=[], object_dependencies=[])\n",
      "Task(name='pipelineLibrary.rebalancing', type='multitask', formula='None', parents=['pipelineLibrary'], siblings=['pipelineLibrary.backtest', 'pipelineLibrary.compute'], children=['pipelineLibrary.rebalancing.universe', 'pipelineLibrary.rebalancing.enrichedUniverse', 'pipelineLibrary.rebalancing.targetAllocation'], dependencies=[], object_dependencies=[])\n",
      "Task(name='pipelineLibrary.rebalancing.universe', type='single', formula='data_loader.getUniverseFromTickers(['AAPL', 'GOOGLE'])', parents=['pipelineLibrary', 'pipelineLibrary.rebalancing'], siblings=['pipelineLibrary.rebalancing.enrichedUniverse', 'pipelineLibrary.rebalancing.targetAllocation'], children=[], dependencies=[], object_dependencies=['data_loader'])\n",
      "Task(name='pipelineLibrary.rebalancing.enrichedUniverse', type='single', formula='data_loader.getData(universe, ['Price'], rebalancingDate.offset('-3M'))', parents=['pipelineLibrary', 'pipelineLibrary.rebalancing'], siblings=['pipelineLibrary.rebalancing.universe', 'pipelineLibrary.rebalancing.targetAllocation'], children=[], dependencies=['pipelineLibrary.rebalancing.universe'], object_dependencies=['data_loader', 'rebalancingDate'])\n",
      "Task(name='pipelineLibrary.rebalancing.targetAllocation', type='single', formula='compute_engine.getEqualWeightAllocation(universe, rebalancingDate)', parents=['pipelineLibrary', 'pipelineLibrary.rebalancing'], siblings=['pipelineLibrary.rebalancing.universe', 'pipelineLibrary.rebalancing.enrichedUniverse'], children=[], dependencies=['pipelineLibrary.rebalancing.universe', 'rebalancingDate'], object_dependencies=['compute_engine'])\n",
      "Task(name='pipelineLibrary.backtest', type='multitask', formula='None', parents=['pipelineLibrary'], siblings=['pipelineLibrary.rebalancing', 'pipelineLibrary.compute'], children=['pipelineLibrary.backtest.observationDates', 'pipelineLibrary.backtest.rebalancingResults'], dependencies=[], object_dependencies=[])\n",
      "Task(name='pipelineLibrary.backtest.observationDates', type='single', formula='orchestrator.getSchedule('2020-01-01', rebalancingDate, 'monthly')', parents=['pipelineLibrary', 'pipelineLibrary.backtest'], siblings=['pipelineLibrary.backtest.rebalancingResults'], children=[], dependencies=['rebalancingDate'], object_dependencies=['orchestrator'])\n",
      "Task(name='pipelineLibrary.backtest.rebalancingResults', type='single', formula='observationDates.map(rebalancing)', parents=['pipelineLibrary', 'pipelineLibrary.backtest'], siblings=['pipelineLibrary.backtest.observationDates'], children=[], dependencies=['pipelineLibrary.rebalancing'], object_dependencies=['pipelineLibrary.backtest.observationDates'])\n",
      "Task(name='pipelineLibrary.compute', type='multitask', formula='None', parents=['pipelineLibrary'], siblings=['pipelineLibrary.rebalancing', 'pipelineLibrary.backtest'], children=['pipelineLibrary.compute.backtestResults', 'pipelineLibrary.compute.performanceMetrics', 'pipelineLibrary.compute.report'], dependencies=[], object_dependencies=[])\n",
      "Task(name='pipelineLibrary.compute.backtestResults', type='single', formula='backtestResults(rebalancingDate)', parents=['pipelineLibrary', 'pipelineLibrary.compute'], siblings=['pipelineLibrary.compute.performanceMetrics', 'pipelineLibrary.compute.report'], children=[], dependencies=['rebalancingDate'], object_dependencies=[])\n",
      "Task(name='pipelineLibrary.compute.performanceMetrics', type='single', formula='compute_engine.calculatePerformance(backtestResults)', parents=['pipelineLibrary', 'pipelineLibrary.compute'], siblings=['pipelineLibrary.compute.backtestResults', 'pipelineLibrary.compute.report'], children=[], dependencies=['pipelineLibrary.compute.backtestResults'], object_dependencies=['compute_engine'])\n",
      "Task(name='pipelineLibrary.compute.report', type='single', formula='orchestrator.finalizeReport(performanceMetrics)', parents=['pipelineLibrary', 'pipelineLibrary.compute'], siblings=['pipelineLibrary.compute.backtestResults', 'pipelineLibrary.compute.performanceMetrics'], children=[], dependencies=['pipelineLibrary.compute.performanceMetrics'], object_dependencies=['orchestrator'])\n"
     ]
    }
   ],
   "source": [
    "from task_module import Task, TaskGraph\n",
    "\n",
    "\n",
    "def create_task_graph_from_json(json_data):\n",
    "    task_graph = TaskGraph()\n",
    "    task_graph.parse(json_data)\n",
    "    return task_graph\n",
    "\n",
    "# Sample Usage\n",
    "if __name__ == \"__main__\":\n",
    "    task_graph = create_task_graph_from_json(json_data)\n",
    "    print(\"Main Entry Point:\", task_graph.get_entry_point())\n",
    "    print(\"Full Task Graph:\")\n",
    "    print(task_graph)\n"
   ]
  },
  {
   "cell_type": "code",
   "execution_count": 19,
   "metadata": {},
   "outputs": [
    {
     "data": {
      "text/plain": [
       "Task(name='pipelineLibrary.rebalancing.universe', type='single', formula='data_loader.getUniverseFromTickers(['AAPL', 'GOOGLE'])', parents=['pipelineLibrary', 'pipelineLibrary.rebalancing'], siblings=['pipelineLibrary.rebalancing.enrichedUniverse', 'pipelineLibrary.rebalancing.targetAllocation'], children=[], dependencies=[], object_dependencies=['data_loader'])"
      ]
     },
     "execution_count": 19,
     "metadata": {},
     "output_type": "execute_result"
    }
   ],
   "source": [
    "task_graph.tasks['pipelineLibrary.rebalancing.universe']"
   ]
  },
  {
   "cell_type": "code",
   "execution_count": null,
   "metadata": {},
   "outputs": [],
   "source": []
  },
  {
   "cell_type": "code",
   "execution_count": null,
   "metadata": {},
   "outputs": [],
   "source": []
  }
 ],
 "metadata": {
  "kernelspec": {
   "display_name": "MyStorage",
   "language": "python",
   "name": "python3"
  },
  "language_info": {
   "codemirror_mode": {
    "name": "ipython",
    "version": 3
   },
   "file_extension": ".py",
   "mimetype": "text/x-python",
   "name": "python",
   "nbconvert_exporter": "python",
   "pygments_lexer": "ipython3",
   "version": "3.9.20"
  }
 },
 "nbformat": 4,
 "nbformat_minor": 2
}
